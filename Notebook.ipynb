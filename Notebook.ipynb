{
 "cells": [
  {
   "cell_type": "markdown",
   "id": "12bfa0fd",
   "metadata": {},
   "source": [
    "## Lambda\n",
    "<u> Syntax</u>: <b> lambda </b> <font color='red'>parameters</font> : <font color='green'>expression</font> \n",
    "<br><u>paramater</u>: seprated by commas <br>\n",
    "<u>expression</u>: An operation that returns something"
   ]
  },
  {
   "cell_type": "markdown",
   "id": "0ee3922d",
   "metadata": {},
   "source": [
    "<b> Can not use lambda for multi-line functions"
   ]
  },
  {
   "cell_type": "code",
   "execution_count": 57,
   "id": "be832072",
   "metadata": {},
   "outputs": [
    {
     "name": "stdout",
     "output_type": "stream",
     "text": [
      "lambda_mul_three(\"a\"): aaa\n",
      "lambda_mul_three(5): 15\n",
      "---\n",
      "regular_mul_three(\"a\"): aaa\n",
      "regular_mul_three(5): 15\n"
     ]
    }
   ],
   "source": [
    "lambda_mul_three = lambda parameter: parameter * 3\n",
    "\n",
    "def regular_mul_three(parameter):\n",
    "    expression = parameter * 3\n",
    "    return expression\n",
    "\n",
    "print('lambda_mul_three(\"a\"):',lambda_mul_three('a'))\n",
    "print('lambda_mul_three(5):',lambda_mul_three(5))\n",
    "print('---')\n",
    "print('regular_mul_three(\"a\"):',regular_mul_three(\"a\"))\n",
    "print('regular_mul_three(5):',regular_mul_three(5))"
   ]
  },
  {
   "cell_type": "code",
   "execution_count": 58,
   "id": "25ededac",
   "metadata": {},
   "outputs": [
    {
     "name": "stdout",
     "output_type": "stream",
     "text": [
      "['John Doe', 'Mary James', 'Some name', 'Jonna Hill', 'XYZ ABC', 'ABC XYZ', 'blabla Bla']\n",
      "['ABC XYZ', 'John Doe', 'Jonna Hill', 'Mary James', 'Some name', 'XYZ ABC', 'blabla Bla']\n",
      "['XYZ ABC', 'blabla Bla', 'John Doe', 'Jonna Hill', 'Mary James', 'Some name', 'ABC XYZ']\n"
     ]
    }
   ],
   "source": [
    "# Sort by last name\n",
    "authores = ['John Doe', 'Mary James', 'Some name', 'Jonna Hill', 'XYZ ABC', 'ABC XYZ', 'bla bla Bla']\n",
    "print(authores)\n",
    "\n",
    "# Default Sort\n",
    "authores.sort()\n",
    "print(authores)\n",
    "\n",
    "# Sort by last name\n",
    "authores.sort(key = lambda x: x.split(' ')[1].lower())\n",
    "print(authores)"
   ]
  },
  {
   "cell_type": "code",
   "execution_count": 59,
   "id": "0b5acbd8",
   "metadata": {},
   "outputs": [
    {
     "name": "stdout",
     "output_type": "stream",
     "text": [
      "x = 0:  -5\n",
      "x = 2:  9\n",
      "x = 10:  225\n"
     ]
    }
   ],
   "source": [
    "def build_quadratic_function(a,b,c):\n",
    "    return lambda x: a*x**2 + b*x + c\n",
    "\n",
    "quadratic_function = build_quadratic_function(2,3,-5)\n",
    "print('x = 0: ',quadratic_function(0))\n",
    "print('x = 2: ',quadratic_function(2))\n",
    "\n",
    "print('x = 10: ',quadratic_function(10))"
   ]
  },
  {
   "cell_type": "markdown",
   "id": "96369aaa",
   "metadata": {},
   "source": [
    "#### lambdas are really useful when a function requires another function as its argument"
   ]
  },
  {
   "cell_type": "code",
   "execution_count": 60,
   "id": "461bcbc3",
   "metadata": {},
   "outputs": [
    {
     "name": "stdout",
     "output_type": "stream",
     "text": [
      "Multiply: 6\n",
      "Add: 5\n"
     ]
    }
   ],
   "source": [
    "#  Using Regular functions\n",
    "def calculate(function, parm1, parm2):\n",
    "    return function(parm1,parm2)\n",
    "\n",
    "#  One line functions\n",
    "def add(n1, n2):\n",
    "    return n1 + n2\n",
    "\n",
    "def sub(n1,n2):\n",
    "    return n1 - n2\n",
    "\n",
    "def mul(n1,n2):\n",
    "    return n1 * n2\n",
    "\n",
    "def div(n1,n2):\n",
    "    return n1 / n2\n",
    "\n",
    "result = calculate(mul, 2, 3)\n",
    "print('Multiply:',result)\n",
    "print('Add:',calculate(add, 2, 3))"
   ]
  },
  {
   "cell_type": "code",
   "execution_count": 176,
   "id": "6e967693",
   "metadata": {},
   "outputs": [
    {
     "name": "stdout",
     "output_type": "stream",
     "text": [
      "Multiply: 6\n",
      "Add: 5\n"
     ]
    }
   ],
   "source": [
    "# Using lambda\n",
    "def calculate(function, parm1, parm2):\n",
    "    return function(parm1,parm2)\n",
    "\n",
    "result = calculate(lambda x1, x2: x1 * x2, 2, 3)\n",
    "print('Multiply:',result)\n",
    "print('Add:', calculate(lambda x1, x2: x1 + x2, 2, 3))"
   ]
  },
  {
   "cell_type": "markdown",
   "id": "70c60eb8",
   "metadata": {},
   "source": [
    "## Map\n",
    "A function that perform some action to each element of an iterable<br>\n",
    "<u> Syntax</u>: <b>map</b>(<font color='red'>function</font>,<font color='green'>data</font>) \n",
    "<br><u>Function</u>: Lambda or def (that contains some action)\n",
    "<br><u>Data</u>: List, Tuple, or other iterable collection of data"
   ]
  },
  {
   "cell_type": "markdown",
   "id": "8e510533",
   "metadata": {},
   "source": [
    "map(f,data):<br>\n",
    "&emsp; Returns iterator over...<br>\n",
    "&emsp; f(a1),f(a2),f(a3),....,f(an)"
   ]
  },
  {
   "cell_type": "code",
   "execution_count": 180,
   "id": "a9cfe1fa",
   "metadata": {},
   "outputs": [
    {
     "name": "stdout",
     "output_type": "stream",
     "text": [
      "Celsius: [('City1', 30), ('City2', 29), ('City3', 32), ('City4', 25), ('City5', 28), ('City6', 20)]\n",
      "Fahrenheit: [('City1', 86.0), ('City2', 84.2), ('City3', 89.6), ('City4', 77.0), ('City5', 82.4), ('City6', 68.0)]\n"
     ]
    }
   ],
   "source": [
    "# Convert Celsius to Fahrenheit\n",
    "# F = (9/5 * C) + 32\n",
    "tempratures = [('City1',30),('City2',29),('City3',32),('City4',25),('City5',28),('City6',20)]\n",
    "print('Celsius:',tempratures)\n",
    "c_to_f = lambda x: (x[0], (9/5 * x[1]) + 32) \n",
    "New_temp = list(map(c_to_f, tempratures))\n",
    "print('Fahrenheit:', New_temp)"
   ]
  },
  {
   "cell_type": "markdown",
   "id": "8eed75b8",
   "metadata": {},
   "source": [
    "## Filter\n",
    "A function use to filter/select certain pieces of data from iterable collection of data<br>\n",
    "<u> Syntax</u>: <b>filter</b>(<font color='red'>condition</font>,<font color='green'>data</font>) \n",
    "<br><u>Contiion</u>: Lambda (that contains some condition)\n",
    "<br><u>Data</u>: List, Tuple, or other iterable collection of data"
   ]
  },
  {
   "cell_type": "code",
   "execution_count": 184,
   "id": "ffaa4659",
   "metadata": {},
   "outputs": [
    {
     "name": "stdout",
     "output_type": "stream",
     "text": [
      "avg: 3.375\n",
      "Original List: [1, 2, 3, 4, 5, 6, 7, -1]\n",
      "Filterd List: [4, 5, 6, 7]\n"
     ]
    }
   ],
   "source": [
    "# Find all values above the average\n",
    "import statistics as s\n",
    "\n",
    "data = [1,2,3,4,5,6,7,-1]\n",
    "avg = s.mean(data)\n",
    "print('avg:',avg)\n",
    "print('Original List:', data)\n",
    "above_avg = list(filter(lambda x: x>avg, data))\n",
    "print('Filterd List:',above_avg)"
   ]
  },
  {
   "cell_type": "code",
   "execution_count": 187,
   "id": "651d5eab",
   "metadata": {},
   "outputs": [
    {
     "name": "stdout",
     "output_type": "stream",
     "text": [
      "Orginal List: ['Some', '', 'Value', '', 'put in', '', 'here', '', '', 'i guess', '', 'lol', '']\n",
      "Filtered List: ['Some', 'Value', 'put in', 'here', 'i guess', 'lol']\n"
     ]
    }
   ],
   "source": [
    "# Remove missing data\n",
    "data = ['Some','','Value','','put in','','here','','','i guess','','lol','']\n",
    "filter_data = list(filter(lambda x: x != '', data))\n",
    "print('Orginal List:',data)\n",
    "print('Filtered List:',filter_data)"
   ]
  },
  {
   "cell_type": "markdown",
   "id": "6f6d033b",
   "metadata": {},
   "source": [
    "## Reduce\n",
    "A function use to filter/select certain pieces of data from iterable collection of data<br>\n",
    "<u> Syntax</u>: <b>filter</b>(<font color='red'>condition</font>,<font color='green'>data</font>) \n",
    "<br><u>Contiion</u>: Lambda (that contains some condition)\n",
    "<br><u>Data</u>: List, Tuple, or other iterable collection of data"
   ]
  },
  {
   "cell_type": "code",
   "execution_count": null,
   "id": "533c00e3",
   "metadata": {},
   "outputs": [],
   "source": []
  }
 ],
 "metadata": {
  "kernelspec": {
   "display_name": "Python 3 (ipykernel)",
   "language": "python",
   "name": "python3"
  },
  "language_info": {
   "codemirror_mode": {
    "name": "ipython",
    "version": 3
   },
   "file_extension": ".py",
   "mimetype": "text/x-python",
   "name": "python",
   "nbconvert_exporter": "python",
   "pygments_lexer": "ipython3",
   "version": "3.9.13"
  }
 },
 "nbformat": 4,
 "nbformat_minor": 5
}
